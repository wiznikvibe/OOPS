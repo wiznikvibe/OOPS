{
 "cells": [
  {
   "cell_type": "markdown",
   "metadata": {},
   "source": [
    "## OOPS- Class Variables, Class Methods, Static Method \n",
    "\n"
   ]
  },
  {
   "cell_type": "markdown",
   "metadata": {},
   "source": [
    "In Python, class variables are variables that are shared by all instances of a class. They are defined within the class, but outside of any methods or constructors. Class variables are associated with the class itself rather than with specific instances of the class"
   ]
  },
  {
   "cell_type": "code",
   "execution_count": 14,
   "metadata": {},
   "outputs": [],
   "source": [
    "class Employee:\n",
    "    # Class Variable\n",
    "    company_name = \"DeepWorks\"\n",
    "\n",
    "    def __init__(self, first_name, last_name):\n",
    "        self.first_name = first_name # Instance Variable\n",
    "        self.last_name = last_name\n",
    "    \n",
    "    # Class Method \n",
    "    # cls used as a naming nomenclature for class variables this would access the class attribute \n",
    "    @classmethod\n",
    "    def change_company(cls,company_name):\n",
    "        cls.company_name = company_name\n",
    "\n"
   ]
  },
  {
   "cell_type": "code",
   "execution_count": 15,
   "metadata": {},
   "outputs": [],
   "source": [
    "person1 = Employee(\"Nikhil\",\"Shetty\")"
   ]
  },
  {
   "cell_type": "code",
   "execution_count": 16,
   "metadata": {},
   "outputs": [
    {
     "data": {
      "text/plain": [
       "'DeepWorks'"
      ]
     },
     "execution_count": 16,
     "metadata": {},
     "output_type": "execute_result"
    }
   ],
   "source": [
    "person1.company_name"
   ]
  },
  {
   "cell_type": "code",
   "execution_count": 10,
   "metadata": {},
   "outputs": [],
   "source": [
    "# Object should not change the class variable\n",
    " \n",
    "# To change the class variable call the class\n",
    "Employee.change_company(\"TESLA\")"
   ]
  },
  {
   "cell_type": "code",
   "execution_count": 11,
   "metadata": {},
   "outputs": [
    {
     "data": {
      "text/plain": [
       "'TESLA'"
      ]
     },
     "execution_count": 11,
     "metadata": {},
     "output_type": "execute_result"
    }
   ],
   "source": [
    "person1.company_name"
   ]
  },
  {
   "cell_type": "markdown",
   "metadata": {},
   "source": [
    "## Class Methods\n",
    "In Python, a class method is a special type of method that is bound to the class rather than an instance of the class. It is defined using the @classmethod decorator, followed by a function definition within the class. Class methods have access to the class itself as the first parameter, conventionally named cls, instead of the instance (self) that is used in regular methods."
   ]
  },
  {
   "cell_type": "code",
   "execution_count": 25,
   "metadata": {},
   "outputs": [],
   "source": [
    "class Car:\n",
    "    base_price = 100000 # Class Variable of year 2023\n",
    "\n",
    "    def __init__(self,model,brand):\n",
    "        self.model = model\n",
    "        self.brand = brand\n",
    "\n",
    "    def display_price(self):\n",
    "        print(f\"This is a Base Price: {self.base_price}\")\n",
    "\n",
    "    @classmethod\n",
    "    def update_base_price(cls, inflation_rate):\n",
    "        cls.base_price += int(cls.base_price*(inflation_rate/100))"
   ]
  },
  {
   "cell_type": "code",
   "execution_count": 26,
   "metadata": {},
   "outputs": [
    {
     "name": "stdout",
     "output_type": "stream",
     "text": [
      "This is a Base Price: 100000\n"
     ]
    }
   ],
   "source": [
    "car1 = Car(\"RangeRover\", \"EV\")\n",
    "car1.display_price()"
   ]
  },
  {
   "cell_type": "code",
   "execution_count": 27,
   "metadata": {},
   "outputs": [],
   "source": [
    "Car.update_base_price(10)"
   ]
  },
  {
   "cell_type": "code",
   "execution_count": 29,
   "metadata": {},
   "outputs": [
    {
     "data": {
      "text/plain": [
       "110000"
      ]
     },
     "execution_count": 29,
     "metadata": {},
     "output_type": "execute_result"
    }
   ],
   "source": [
    "car1.base_price"
   ]
  },
  {
   "cell_type": "markdown",
   "metadata": {},
   "source": [
    "## Static Methods\n",
    "In Python, a static method is a method that belongs to a class but doesn't have access to the class itself (via self) or its instances. Static methods are defined using the @staticmethod decorator and are typically used when a method doesn't require access to instance-specific data or class-specific data."
   ]
  },
  {
   "cell_type": "code",
   "execution_count": 32,
   "metadata": {},
   "outputs": [],
   "source": [
    "class Car:\n",
    "    base_price = 100000 # Class Variable of year 2023\n",
    "\n",
    "    def __init__(self,model,brand):\n",
    "        self.model = model\n",
    "        self.brand = brand\n",
    "\n",
    "    def display_price(self):\n",
    "        print(f\"This is a Base Price: {self.base_price}\")\n",
    "\n",
    "    @classmethod\n",
    "    def update_base_price(cls, inflation_rate):\n",
    "        cls.base_price += int(cls.base_price*(inflation_rate/100))\n",
    "\n",
    "    # Utility Functions\n",
    "    # these methods do not have access to the class instances and variables \n",
    "    @staticmethod\n",
    "    def check_year(year):\n",
    "        if year == 2024:\n",
    "            return True\n",
    "        else:\n",
    "            return False"
   ]
  },
  {
   "cell_type": "code",
   "execution_count": 35,
   "metadata": {},
   "outputs": [
    {
     "data": {
      "text/plain": [
       "True"
      ]
     },
     "execution_count": 35,
     "metadata": {},
     "output_type": "execute_result"
    }
   ],
   "source": [
    "Car.check_year(2024)"
   ]
  },
  {
   "cell_type": "code",
   "execution_count": null,
   "metadata": {},
   "outputs": [],
   "source": [
    "# Data Class\n",
    "\n",
    "class Person:\n",
    "\n",
    "    def __init__(self)"
   ]
  }
 ],
 "metadata": {
  "kernelspec": {
   "display_name": "base",
   "language": "python",
   "name": "python3"
  },
  "language_info": {
   "codemirror_mode": {
    "name": "ipython",
    "version": 3
   },
   "file_extension": ".py",
   "mimetype": "text/x-python",
   "name": "python",
   "nbconvert_exporter": "python",
   "pygments_lexer": "ipython3",
   "version": "3.9.12"
  },
  "orig_nbformat": 4
 },
 "nbformat": 4,
 "nbformat_minor": 2
}
