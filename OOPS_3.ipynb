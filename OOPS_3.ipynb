{
 "cells": [
  {
   "cell_type": "markdown",
   "metadata": {},
   "source": [
    "## OOPS- Class Variables, Class Methods, Static Method \n",
    "\n"
   ]
  },
  {
   "cell_type": "markdown",
   "metadata": {},
   "source": [
    "In Python, class variables are variables that are shared by all instances of a class. They are defined within the class, but outside of any methods or constructors. Class variables are associated with the class itself rather than with specific instances of the class"
   ]
  },
  {
   "cell_type": "code",
   "execution_count": 14,
   "metadata": {},
   "outputs": [],
   "source": [
    "class Employee:\n",
    "    # Class Variable\n",
    "    company_name = \"DeepWorks\"\n",
    "\n",
    "    def __init__(self, first_name, last_name):\n",
    "        self.first_name = first_name # Instance Variable\n",
    "        self.last_name = last_name\n",
    "    \n",
    "    # Class Method \n",
    "    # cls used as a naming nomenclature for class variables this would access the class attribute \n",
    "    @classmethod\n",
    "    def change_company(cls,company_name):\n",
    "        cls.company_name = company_name\n",
    "\n"
   ]
  },
  {
   "cell_type": "code",
   "execution_count": 15,
   "metadata": {},
   "outputs": [],
   "source": [
    "person1 = Employee(\"Nikhil\",\"Shetty\")"
   ]
  },
  {
   "cell_type": "code",
   "execution_count": 16,
   "metadata": {},
   "outputs": [
    {
     "data": {
      "text/plain": [
       "'DeepWorks'"
      ]
     },
     "execution_count": 16,
     "metadata": {},
     "output_type": "execute_result"
    }
   ],
   "source": [
    "person1.company_name"
   ]
  },
  {
   "cell_type": "code",
   "execution_count": 10,
   "metadata": {},
   "outputs": [],
   "source": [
    "# Object should not change the class variable\n",
    " \n",
    "# To change the class variable call the class\n",
    "Employee.change_company(\"TESLA\")"
   ]
  },
  {
   "cell_type": "code",
   "execution_count": 11,
   "metadata": {},
   "outputs": [
    {
     "data": {
      "text/plain": [
       "'TESLA'"
      ]
     },
     "execution_count": 11,
     "metadata": {},
     "output_type": "execute_result"
    }
   ],
   "source": [
    "person1.company_name"
   ]
  },
  {
   "cell_type": "markdown",
   "metadata": {},
   "source": [
    "## Class Methods\n",
    "In Python, a class method is a special type of method that is bound to the class rather than an instance of the class. It is defined using the @classmethod decorator, followed by a function definition within the class. Class methods have access to the class itself as the first parameter, conventionally named cls, instead of the instance (self) that is used in regular methods."
   ]
  },
  {
   "cell_type": "code",
   "execution_count": 25,
   "metadata": {},
   "outputs": [],
   "source": [
    "class Car:\n",
    "    base_price = 100000 # Class Variable of year 2023\n",
    "\n",
    "    def __init__(self,model,brand):\n",
    "        self.model = model\n",
    "        self.brand = brand\n",
    "\n",
    "    def display_price(self):\n",
    "        print(f\"This is a Base Price: {self.base_price}\")\n",
    "\n",
    "    @classmethod\n",
    "    def update_base_price(cls, inflation_rate):\n",
    "        cls.base_price += int(cls.base_price*(inflation_rate/100))"
   ]
  },
  {
   "cell_type": "code",
   "execution_count": 26,
   "metadata": {},
   "outputs": [
    {
     "name": "stdout",
     "output_type": "stream",
     "text": [
      "This is a Base Price: 100000\n"
     ]
    }
   ],
   "source": [
    "car1 = Car(\"RangeRover\", \"EV\")\n",
    "car1.display_price()"
   ]
  },
  {
   "cell_type": "code",
   "execution_count": 27,
   "metadata": {},
   "outputs": [],
   "source": [
    "Car.update_base_price(10)"
   ]
  },
  {
   "cell_type": "code",
   "execution_count": 29,
   "metadata": {},
   "outputs": [
    {
     "data": {
      "text/plain": [
       "110000"
      ]
     },
     "execution_count": 29,
     "metadata": {},
     "output_type": "execute_result"
    }
   ],
   "source": [
    "car1.base_price"
   ]
  },
  {
   "cell_type": "markdown",
   "metadata": {},
   "source": [
    "## Static Methods\n",
    "In Python, a static method is a method that belongs to a class but doesn't have access to the class itself (via self) or its instances. Static methods are defined using the @staticmethod decorator and are typically used when a method doesn't require access to instance-specific data or class-specific data."
   ]
  },
  {
   "cell_type": "code",
   "execution_count": 32,
   "metadata": {},
   "outputs": [],
   "source": [
    "class Car:\n",
    "    base_price = 100000 # Class Variable of year 2023\n",
    "\n",
    "    def __init__(self,model,brand):\n",
    "        self.model = model\n",
    "        self.brand = brand\n",
    "\n",
    "    def display_price(self):\n",
    "        print(f\"This is a Base Price: {self.base_price}\")\n",
    "\n",
    "    @classmethod\n",
    "    def update_base_price(cls, inflation_rate):\n",
    "        cls.base_price += int(cls.base_price*(inflation_rate/100))\n",
    "\n",
    "    # Utility Functions\n",
    "    # these methods do not have access to the class instances and variables \n",
    "    @staticmethod\n",
    "    def check_year(year):\n",
    "        if year == 2024:\n",
    "            return True\n",
    "        else:\n",
    "            return False"
   ]
  },
  {
   "cell_type": "code",
   "execution_count": 35,
   "metadata": {},
   "outputs": [
    {
     "data": {
      "text/plain": [
       "True"
      ]
     },
     "execution_count": 35,
     "metadata": {},
     "output_type": "execute_result"
    }
   ],
   "source": [
    "Car.check_year(2024)"
   ]
  },
  {
   "cell_type": "markdown",
   "metadata": {},
   "source": [
    "## Assignments\n"
   ]
  },
  {
   "cell_type": "markdown",
   "metadata": {},
   "source": [
    "1. the `Person` class has a constructor that takes `name` and `age` as arguments and assigns them to the object's attributes. The `introduce` method is then invoked on the object to introduce the person."
   ]
  },
  {
   "cell_type": "code",
   "execution_count": 1,
   "metadata": {},
   "outputs": [],
   "source": [
    "import logging\n",
    "logging.basicConfig(filename=\"logs/OOPs_test.log\", level=logging.INFO, format='%(levelname)s %(asctime)s %(name)s: %(message)s')\n",
    "\n",
    "class Person:\n",
    "\n",
    "    def __init__(self, name, age):\n",
    "        self.name = name\n",
    "        self.age = age\n",
    "        logging.info(f\"Name: {self.name}, Age: {self.age}\")\n",
    "    \n",
    "    def introduce(self):\n",
    "        return f\"Hi I am {self.name}, Nice to meet you. I am {self.age} years old\""
   ]
  },
  {
   "cell_type": "code",
   "execution_count": 2,
   "metadata": {},
   "outputs": [
    {
     "data": {
      "text/plain": [
       "'Hi I am Sudhanshu, Nice to meet you. I am 29 years old'"
      ]
     },
     "execution_count": 2,
     "metadata": {},
     "output_type": "execute_result"
    }
   ],
   "source": [
    "person1 = Person(\"Sudhanshu\", 29)\n",
    "\n",
    "person1.introduce()"
   ]
  },
  {
   "cell_type": "markdown",
   "metadata": {},
   "source": [
    "2. the `Car` class has a constructor that takes `brand` and `model` as arguments and assigns them to the object's attributes. The `display_info` method is then invoked on the object to display the car's brand and model.\n"
   ]
  },
  {
   "cell_type": "code",
   "execution_count": 4,
   "metadata": {},
   "outputs": [],
   "source": [
    "class Car:\n",
    "\n",
    "    def __init__(self, brand, model):\n",
    "        self.brand = brand\n",
    "        self.model = model \n",
    "        logging.info(f\"Brand: {self.brand}, Model: {self.model}\")\n",
    "    \n",
    "    def display_info(self):\n",
    "        return f\"Brand: {self.brand}, Model: {self.model}\""
   ]
  },
  {
   "cell_type": "code",
   "execution_count": 5,
   "metadata": {},
   "outputs": [
    {
     "data": {
      "text/plain": [
       "'Brand: Buggati, Model: Verron'"
      ]
     },
     "execution_count": 5,
     "metadata": {},
     "output_type": "execute_result"
    }
   ],
   "source": [
    "supercar = Car(\"Buggati\", \"Verron\")\n",
    "\n",
    "supercar.display_info()"
   ]
  },
  {
   "cell_type": "markdown",
   "metadata": {},
   "source": [
    "\n",
    "3. the `BankAccount` class has a constructor that takes `account_number` and `balance` as arguments and assigns them to the object's attributes. The `display_balance` method is then invoked on the object to display the account number and balance."
   ]
  },
  {
   "cell_type": "code",
   "execution_count": 6,
   "metadata": {},
   "outputs": [],
   "source": [
    "class BankAccount:\n",
    "\n",
    "    def __init__(self, account_number, balance):\n",
    "        self.account_number = account_number\n",
    "        self.balance = balance\n",
    "        logging.info(f\"Acc No: {self.account_number}, Balance: {self.balance}\")\n",
    "\n",
    "    def display_balance(self):\n",
    "        return f\"Acc No: {self.account_number}, Balance: {self.balance}\""
   ]
  },
  {
   "cell_type": "code",
   "execution_count": 7,
   "metadata": {},
   "outputs": [
    {
     "data": {
      "text/plain": [
       "'Acc No: 887445qd4445ad55a5f587, Balance: 2121556000'"
      ]
     },
     "execution_count": 7,
     "metadata": {},
     "output_type": "execute_result"
    }
   ],
   "source": [
    "customer1 = BankAccount(\"887445qd4445ad55a5f587\", 2121556000)\n",
    "customer1.display_balance()"
   ]
  },
  {
   "cell_type": "markdown",
   "metadata": {},
   "source": [
    "\n",
    "4.  the `MobilePhone` class has a constructor that takes `brand` and `model` as arguments and assigns them to the object's attributes. The `make_call` method is then invoked on the object to make a call with the phone.\n"
   ]
  },
  {
   "cell_type": "code",
   "execution_count": 8,
   "metadata": {},
   "outputs": [],
   "source": [
    "class MobilePhone:\n",
    "\n",
    "    def __init__(self, brand, model):\n",
    "\n",
    "        self.brand = brand\n",
    "        self.model = model\n",
    "\n",
    "    def make_call(self):\n",
    "        logging.info(\"Call is Being Made\")\n",
    "        return f\"Making a Call using the device\""
   ]
  },
  {
   "cell_type": "code",
   "execution_count": 9,
   "metadata": {},
   "outputs": [
    {
     "data": {
      "text/plain": [
       "'Making a Call using the device'"
      ]
     },
     "execution_count": 9,
     "metadata": {},
     "output_type": "execute_result"
    }
   ],
   "source": [
    "pixel = MobilePhone(\"Google\", \"Pixel 6A\")\n",
    "pixel.make_call()"
   ]
  },
  {
   "cell_type": "markdown",
   "metadata": {},
   "source": [
    "5. Employees and Departments: Create a base class called Employee with attributes such as name, salary, and department. Implement two subclasses Manager and Staff that inherit from Employee. Add additional methods to the subclasses, such as assign_task() for managers and attend_meeting() for staff members. Create a separate class called Department that contains a list of employees and methods to add or remove employees from the department.\n",
    "\n"
   ]
  },
  {
   "cell_type": "code",
   "execution_count": 33,
   "metadata": {},
   "outputs": [],
   "source": [
    "class Employee:\n",
    "\n",
    "    def __init__(self, name, salary, department):\n",
    "\n",
    "        self.name = name\n",
    "        self.salary = salary\n",
    "        self.department = department \n",
    "\n",
    "\n",
    "\n",
    "class Manager(Employees):\n",
    "\n",
    "    def assign_task(self, task):\n",
    "        logging.info(f\"Task Assigned by manager {self.name}:{task}\")\n",
    "\n",
    "\n",
    "\n",
    "class StaffMember(Employees):\n",
    "\n",
    "    def attend_meeting(self, meeting):\n",
    "        logging.info(f\"The Staff {self.name} must attend: {meeting}\")\n",
    "\n",
    "class Department:\n",
    "    def __init__(self):\n",
    "        \n",
    "        self.employees = []\n",
    "\n",
    "    def add_employee(self, employee):\n",
    "        if isinstance(employee, (Manager, StaffMember)):\n",
    "            self.employees.append(employee)\n",
    "            logging.info(f\"Employee {employee.name} added to department {employee.department}\")\n",
    "        else:\n",
    "            raise ValueError(\"Invalid employee type\")\n",
    "\n",
    "    def remove_employee(self, employee):\n",
    "        if employee in self.employees:\n",
    "            self.employees.remove(employee)\n",
    "            logging.info(f\"Employee {employee.name} removed from department {employee.department}\")\n",
    "        else:\n",
    "            raise ValueError(\"Employee not found in department\")\n",
    "    "
   ]
  },
  {
   "cell_type": "code",
   "execution_count": 34,
   "metadata": {},
   "outputs": [],
   "source": [
    "department = Department()\n",
    "\n",
    "# Create employees\n",
    "manager = Manager(\"Nikhil\", 5000, \"Marketing\")\n",
    "staff1 = StaffMember(\"Alice\", 3000, \"Marketing\")\n",
    "staff2 = StaffMember(\"Bob\", 3000, \"Marketing\")\n",
    "\n",
    "# Add employees to department\n",
    "department.add_employee(manager)\n",
    "department.add_employee(staff1)\n",
    "department.add_employee(staff2)\n",
    "\n",
    "# Assign tasks and attend meetings\n",
    "manager.assign_task(\"Prepare marketing campaign\")\n",
    "staff1.attend_meeting(\"Marketing strategy\")\n",
    "staff2.attend_meeting(\"Budget planning\")\n",
    "\n",
    "# Remove employee from department\n",
    "department.remove_employee(staff1)"
   ]
  },
  {
   "cell_type": "markdown",
   "metadata": {},
   "source": [
    "## Packaging Modules into a heirarchy \n",
    "    > Create utils folder\n",
    "\n",
    "        > Save class inside a .py file\n",
    "    \n",
    "    To call the module class: \n",
    "    \n",
    "        > from utils.utils1 import Person2 \n",
    "\n",
    "### This is known as Packaging Method inside a package you have module and inside a module you have a class blueprint \n"
   ]
  },
  {
   "cell_type": "code",
   "execution_count": 1,
   "metadata": {},
   "outputs": [],
   "source": [
    "# 0:47:29 Sudanshu Kumar 47 OOPS"
   ]
  },
  {
   "cell_type": "markdown",
   "metadata": {},
   "source": []
  }
 ],
 "metadata": {
  "kernelspec": {
   "display_name": "base",
   "language": "python",
   "name": "python3"
  },
  "language_info": {
   "codemirror_mode": {
    "name": "ipython",
    "version": 3
   },
   "file_extension": ".py",
   "mimetype": "text/x-python",
   "name": "python",
   "nbconvert_exporter": "python",
   "pygments_lexer": "ipython3",
   "version": "3.9.12"
  },
  "orig_nbformat": 4
 },
 "nbformat": 4,
 "nbformat_minor": 2
}
